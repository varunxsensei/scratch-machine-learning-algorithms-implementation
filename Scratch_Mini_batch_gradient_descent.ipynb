{
 "cells": [
  {
   "cell_type": "code",
   "execution_count": 2,
   "id": "bf3f05c2-16ef-4ec4-b47e-504fbf8d5464",
   "metadata": {},
   "outputs": [],
   "source": [
    "import numpy as np\n",
    "import pandas as pd\n",
    "from sklearn.model_selection import train_test_split"
   ]
  },
  {
   "cell_type": "code",
   "execution_count": 4,
   "id": "56d949b6-cdd4-4cf9-8f55-5ced11afe9b1",
   "metadata": {},
   "outputs": [],
   "source": [
    "from sklearn.datasets import load_diabetes"
   ]
  },
  {
   "cell_type": "code",
   "execution_count": 6,
   "id": "e52e4ade-e3ed-4612-9c5d-b0f11fb31814",
   "metadata": {},
   "outputs": [],
   "source": [
    "X,y = load_diabetes(return_X_y=True)"
   ]
  },
  {
   "cell_type": "code",
   "execution_count": 70,
   "id": "6d89b93e-29b0-4b3d-980a-051d83dee5ea",
   "metadata": {},
   "outputs": [],
   "source": [
    "class Mini_batch_gd:\n",
    "    def __init__(self,learning_rate,epochs,batch_row_size):\n",
    "        self.lr = learning_rate\n",
    "        self.epochs = epochs\n",
    "        self.batch_row_size = batch_row_size\n",
    "\n",
    "    def fit(self,X_train,y_train):\n",
    "        ones = np.ones((X_train.shape[0],1))\n",
    "        X_train_trf = np.concatenate((ones,X_train),axis = 1)\n",
    "        self.weights = np.random.rand(X_train_trf.shape[1])\n",
    "        for i in range(self.epochs):\n",
    "            for batch in range(X_train_trf.shape[0]//self.batch_row_size):\n",
    "                batch_start = batch * self.batch_row_size\n",
    "                batch_end = batch_start + self.batch_row_size\n",
    "                X_batch = X_train_trf[batch_start:batch_end]\n",
    "                y_batch = y_train[batch_start:batch_end]\n",
    "                y_pred = np.dot(X_batch,self.weights)\n",
    "                weight_slope = -2 * np.dot(X_batch.T,(y_pred - y_batch))/self.batch_row_size\n",
    "                self.weights = self.weights - (self.lr * weight_slope)\n",
    "\n",
    "        print(f\"coefs: {self.weights}\")\n",
    "\n",
    "    def predict(self,X_test):\n",
    "        ones = np.ones((X_test.shape[0],1))\n",
    "        X_test_trf = np.concatenate((ones,X_test),axis = 1)\n",
    "        return np.dot(X_test_trf,self.weights)"
   ]
  },
  {
   "cell_type": "code",
   "execution_count": 72,
   "id": "71bb38e6-0b76-4e84-b3c4-0818e15aff09",
   "metadata": {},
   "outputs": [],
   "source": [
    "X_train,X_test,y_train,y_test = train_test_split(X,y,test_size=0.2,random_state=42)"
   ]
  },
  {
   "cell_type": "code",
   "execution_count": 74,
   "id": "22da51eb-af02-49da-8f83-37e3da40a04c",
   "metadata": {},
   "outputs": [
    {
     "data": {
      "text/plain": [
       "(353, 10)"
      ]
     },
     "execution_count": 74,
     "metadata": {},
     "output_type": "execute_result"
    }
   ],
   "source": [
    "X_train.shape"
   ]
  },
  {
   "cell_type": "code",
   "execution_count": 76,
   "id": "d7a5b0dc-7717-4d6b-b7cd-a6542dfa24e7",
   "metadata": {},
   "outputs": [
    {
     "data": {
      "text/plain": [
       "(89, 10)"
      ]
     },
     "execution_count": 76,
     "metadata": {},
     "output_type": "execute_result"
    }
   ],
   "source": [
    "X_test.shape"
   ]
  },
  {
   "cell_type": "code",
   "execution_count": 78,
   "id": "d10b2c64-ecea-46e2-ab24-21245a3b20a4",
   "metadata": {},
   "outputs": [],
   "source": [
    "miniGD = Mini_batch_gd(learning_rate=0.01,epochs=1000,batch_row_size=10)"
   ]
  },
  {
   "cell_type": "code",
   "execution_count": 80,
   "id": "4efbaa67-c36b-4a73-ae51-57b39a49bc45",
   "metadata": {},
   "outputs": [
    {
     "name": "stdout",
     "output_type": "stream",
     "text": [
      "coefs: [-1.56336683e+303 -1.77841112e+300 -6.13472604e+299 -2.52816355e+300\n",
      " -1.89434070e+300  6.12747568e+299  1.39686092e+300  1.06240205e+299\n",
      "  2.09404656e+299 -1.42083138e+300 -2.71049521e+300]\n"
     ]
    }
   ],
   "source": [
    "miniGD.fit(X_train,y_train)"
   ]
  },
  {
   "cell_type": "code",
   "execution_count": 82,
   "id": "07e0aaa8-38cc-43fe-b2b5-e37de62e9fe1",
   "metadata": {},
   "outputs": [
    {
     "data": {
      "text/plain": [
       "array([-1.56314531e+303, -1.56359450e+303, -1.56341238e+303,\n",
       "       -1.56399162e+303, -1.56322815e+303, -1.56303359e+303,\n",
       "       -1.56390544e+303, -1.56358451e+303, -1.56299781e+303,\n",
       "       -1.56315517e+303, -1.56290962e+303, -1.56313587e+303,\n",
       "       -1.56281583e+303, -1.56385981e+303, -1.56339026e+303,\n",
       "       -1.56350368e+303, -1.56395407e+303, -1.56403404e+303,\n",
       "       -1.56378821e+303, -1.56383048e+303, -1.56336794e+303,\n",
       "       -1.56290729e+303, -1.56303108e+303, -1.56374078e+303,\n",
       "       -1.56326681e+303, -1.56360915e+303, -1.56364276e+303,\n",
       "       -1.56354822e+303, -1.56283010e+303, -1.56331454e+303,\n",
       "       -1.56344562e+303, -1.56281307e+303, -1.56331685e+303,\n",
       "       -1.56362507e+303, -1.56346792e+303, -1.56344807e+303,\n",
       "       -1.56334898e+303, -1.56328448e+303, -1.56363363e+303,\n",
       "       -1.56284678e+303, -1.56316946e+303, -1.56354013e+303,\n",
       "       -1.56343598e+303, -1.56357633e+303, -1.56350658e+303,\n",
       "       -1.56280867e+303, -1.56289570e+303, -1.56340130e+303,\n",
       "       -1.56287209e+303, -1.56310994e+303, -1.56343091e+303,\n",
       "       -1.56261420e+303, -1.56306264e+303, -1.56323876e+303,\n",
       "       -1.56312333e+303, -1.56323784e+303, -1.56302721e+303,\n",
       "       -1.56372440e+303, -1.56302959e+303, -1.56308628e+303,\n",
       "       -1.56322678e+303, -1.56338459e+303, -1.56341928e+303,\n",
       "       -1.56348266e+303, -1.56297778e+303, -1.56346282e+303,\n",
       "       -1.56326378e+303, -1.56348434e+303, -1.56286179e+303,\n",
       "       -1.56310674e+303, -1.56332921e+303, -1.56356930e+303,\n",
       "       -1.56395572e+303, -1.56319586e+303, -1.56304335e+303,\n",
       "       -1.56312288e+303, -1.56360207e+303, -1.56331876e+303,\n",
       "       -1.56360176e+303, -1.56325490e+303, -1.56303328e+303,\n",
       "       -1.56300010e+303, -1.56272630e+303, -1.56292296e+303,\n",
       "       -1.56321653e+303, -1.56323896e+303, -1.56298401e+303,\n",
       "       -1.56284809e+303, -1.56313400e+303])"
      ]
     },
     "execution_count": 82,
     "metadata": {},
     "output_type": "execute_result"
    }
   ],
   "source": [
    "miniGD.predict(X_test)"
   ]
  },
  {
   "cell_type": "code",
   "execution_count": 56,
   "id": "d63a59ec-f59b-4859-afe5-b149ef067b5d",
   "metadata": {},
   "outputs": [
    {
     "data": {
      "text/plain": [
       "(100, 10)"
      ]
     },
     "execution_count": 56,
     "metadata": {},
     "output_type": "execute_result"
    }
   ],
   "source": [
    "X[0:100,:].shape"
   ]
  },
  {
   "cell_type": "code",
   "execution_count": null,
   "id": "5854ec50-ae77-41a8-a41d-aaade7ec68e4",
   "metadata": {},
   "outputs": [],
   "source": []
  }
 ],
 "metadata": {
  "kernelspec": {
   "display_name": "Python [conda env:base] *",
   "language": "python",
   "name": "conda-base-py"
  },
  "language_info": {
   "codemirror_mode": {
    "name": "ipython",
    "version": 3
   },
   "file_extension": ".py",
   "mimetype": "text/x-python",
   "name": "python",
   "nbconvert_exporter": "python",
   "pygments_lexer": "ipython3",
   "version": "3.12.7"
  }
 },
 "nbformat": 4,
 "nbformat_minor": 5
}
