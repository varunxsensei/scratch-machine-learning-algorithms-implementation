{
 "cells": [
  {
   "cell_type": "code",
   "execution_count": 124,
   "id": "424bb280-3bf6-4d11-a329-03295085d681",
   "metadata": {},
   "outputs": [],
   "source": [
    "import numpy as np\n",
    "import pandas as pd\n",
    "from sklearn.datasets import load_breast_cancer"
   ]
  },
  {
   "cell_type": "code",
   "execution_count": 98,
   "id": "ddf03737-f4e3-4c4a-8999-c2c4620c2bc9",
   "metadata": {},
   "outputs": [],
   "source": [
    "def sigmoid(z):\n",
    "    return 1/(1+np.exp(-z))"
   ]
  },
  {
   "cell_type": "code",
   "execution_count": 100,
   "id": "d157b5e7-aac5-4fd0-96bc-c271857f244a",
   "metadata": {},
   "outputs": [],
   "source": [
    "class LogisticRegression:\n",
    "    def __init__(self,epochs,learning_rate):\n",
    "        self.epochs = epochs\n",
    "        self.lr = learning_rate\n",
    "\n",
    "    def fit(self,X_train,y_train):\n",
    "        ones = np.ones((X_train.shape[0],1))\n",
    "        X_train_trf = np.concatenate((ones,X_train),axis = 1)\n",
    "        self.weights = np.random.randn(X_train_trf.shape[1])\n",
    "        for i in range(self.epochs):\n",
    "            y_pred = sigmoid(np.dot(X_train_trf,self.weights))\n",
    "            weight_der =  np.dot(X_train_trf.T,(y_pred-y_train))/X_train.shape[0]\n",
    "            self.weights = self.weights - (self.lr * weight_der)\n",
    "        print(f\"coeffs:- {self.weights}\")\n",
    "\n",
    "    def predict(self,X_test):\n",
    "        ones = np.ones((X_test.shape[0],1))\n",
    "        X_test_trf = np.concatenate((ones,X_test),axis = 1)\n",
    "        return (sigmoid(np.dot(X_test_trf,self.weights)) >= 0.5).astype(int)"
   ]
  },
  {
   "cell_type": "code",
   "execution_count": 104,
   "id": "0516ffef-10a6-49d7-b979-f28d531f5f49",
   "metadata": {},
   "outputs": [],
   "source": [
    "from sklearn.model_selection import train_test_split"
   ]
  },
  {
   "cell_type": "code",
   "execution_count": 126,
   "id": "40c984f1-8450-49ec-aa5a-d5035a6e7636",
   "metadata": {},
   "outputs": [],
   "source": [
    "X,y = load_breast_cancer(return_X_y=True)"
   ]
  },
  {
   "cell_type": "code",
   "execution_count": 128,
   "id": "41eee3e0-ddd4-40ee-85e6-6528482725d8",
   "metadata": {},
   "outputs": [],
   "source": [
    "X_train,X_test,y_train,y_test = train_test_split(X,y,test_size=0.2,random_state=42)"
   ]
  },
  {
   "cell_type": "code",
   "execution_count": 130,
   "id": "32b5e699-5c39-436c-955b-7a305b91ab2e",
   "metadata": {},
   "outputs": [],
   "source": [
    "logit = LogisticRegression(epochs=1000,learning_rate=0.001)"
   ]
  },
  {
   "cell_type": "code",
   "execution_count": 132,
   "id": "dde43c56-b093-4c1c-92c0-461efeed85f6",
   "metadata": {},
   "outputs": [
    {
     "name": "stdout",
     "output_type": "stream",
     "text": [
      "coeffs:- [ 1.79189301 -0.4595016   0.50035741  2.08275397  0.87586283  0.13804454\n",
      "  0.31263375 -1.81844055  0.55654505 -0.51147244 -1.43594456  0.14120478\n",
      " -0.07465406  0.56490036 -0.64407446  0.41898339 -1.43148674 -2.57915469\n",
      "  0.35375075 -0.4938217  -0.63608896  0.59083811 -0.06502129  2.02609041\n",
      " -1.19573884  0.07136819  0.41674514  0.05731336 -0.72641217 -0.61756235\n",
      "  0.39857653]\n"
     ]
    },
    {
     "name": "stderr",
     "output_type": "stream",
     "text": [
      "/var/folders/yp/whppj8w14xl9jl1_4pj1nf6m0000gp/T/ipykernel_5544/1844366379.py:2: RuntimeWarning: overflow encountered in exp\n",
      "  return 1/(1+np.exp(-z))\n"
     ]
    }
   ],
   "source": [
    "logit.fit(X_train,y_train)"
   ]
  },
  {
   "cell_type": "code",
   "execution_count": 142,
   "id": "13030c69-ba60-4f77-9cf1-32a36728a5e8",
   "metadata": {},
   "outputs": [
    {
     "name": "stderr",
     "output_type": "stream",
     "text": [
      "/var/folders/yp/whppj8w14xl9jl1_4pj1nf6m0000gp/T/ipykernel_5544/1844366379.py:2: RuntimeWarning: overflow encountered in exp\n",
      "  return 1/(1+np.exp(-z))\n"
     ]
    }
   ],
   "source": [
    "y_pred = logit.predict(X_test)"
   ]
  },
  {
   "cell_type": "code",
   "execution_count": 136,
   "id": "158832ab-0ecc-4253-8329-135fa805ef42",
   "metadata": {},
   "outputs": [
    {
     "data": {
      "text/plain": [
       "array([1, 0, 0, 1, 1, 0, 0, 0, 1, 1, 1, 0, 1, 0, 1, 0, 1, 1, 1, 0, 0, 1,\n",
       "       0, 1, 1, 1, 1, 1, 1, 0, 1, 1, 1, 1, 1, 1, 0, 1, 0, 1, 1, 0, 1, 1,\n",
       "       1, 1, 1, 1, 1, 1, 0, 0, 1, 1, 1, 1, 1, 0, 0, 1, 1, 0, 0, 1, 1, 1,\n",
       "       0, 0, 1, 1, 0, 0, 1, 0, 1, 1, 1, 0, 1, 1, 0, 1, 0, 0, 0, 0, 0, 0,\n",
       "       1, 1, 1, 1, 1, 1, 1, 1, 0, 0, 1, 0, 0, 1, 0, 0, 1, 1, 1, 0, 1, 1,\n",
       "       0, 1, 1, 0])"
      ]
     },
     "execution_count": 136,
     "metadata": {},
     "output_type": "execute_result"
    }
   ],
   "source": [
    "y_test"
   ]
  },
  {
   "cell_type": "code",
   "execution_count": 138,
   "id": "50de832d-4a4f-41d0-9274-49fdbddc2b62",
   "metadata": {},
   "outputs": [],
   "source": [
    "from sklearn.metrics import accuracy_score"
   ]
  },
  {
   "cell_type": "code",
   "execution_count": 144,
   "id": "fa794d7f-0cb2-471a-8fbb-d0efe0ffb5c7",
   "metadata": {},
   "outputs": [
    {
     "data": {
      "text/plain": [
       "0.9385964912280702"
      ]
     },
     "execution_count": 144,
     "metadata": {},
     "output_type": "execute_result"
    }
   ],
   "source": [
    "accuracy_score(y_test,y_pred)"
   ]
  },
  {
   "cell_type": "code",
   "execution_count": null,
   "id": "05c86d7b-b92c-4202-ae5e-0c611a3216c1",
   "metadata": {},
   "outputs": [],
   "source": []
  }
 ],
 "metadata": {
  "kernelspec": {
   "display_name": "Python [conda env:base] *",
   "language": "python",
   "name": "conda-base-py"
  },
  "language_info": {
   "codemirror_mode": {
    "name": "ipython",
    "version": 3
   },
   "file_extension": ".py",
   "mimetype": "text/x-python",
   "name": "python",
   "nbconvert_exporter": "python",
   "pygments_lexer": "ipython3",
   "version": "3.12.7"
  }
 },
 "nbformat": 4,
 "nbformat_minor": 5
}
