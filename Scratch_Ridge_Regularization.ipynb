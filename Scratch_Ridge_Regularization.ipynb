{
 "cells": [
  {
   "cell_type": "code",
   "execution_count": 2,
   "id": "7e228d59-30c3-41e9-a126-ff670a362294",
   "metadata": {},
   "outputs": [],
   "source": [
    "import numpy as np\n",
    "import pandas as pd\n",
    "from sklearn.model_selection import train_test_split"
   ]
  },
  {
   "cell_type": "code",
   "execution_count": 4,
   "id": "dce2be60-5a19-46b7-85cc-5b505e945481",
   "metadata": {},
   "outputs": [],
   "source": [
    "from sklearn.datasets import load_diabetes"
   ]
  },
  {
   "cell_type": "code",
   "execution_count": 6,
   "id": "dea55a46-8b07-44dc-a576-41f748161904",
   "metadata": {},
   "outputs": [],
   "source": [
    "X,y = load_diabetes(return_X_y=True)"
   ]
  },
  {
   "cell_type": "code",
   "execution_count": 8,
   "id": "fc4abdda-aae5-4b55-8251-215b01469161",
   "metadata": {},
   "outputs": [],
   "source": [
    "class Ridge_reg_ols:\n",
    "    def __init__(self,alpha):\n",
    "        self.weights = None\n",
    "        self.alpha = alpha\n",
    "    def fit(self,X_train,y_train):\n",
    "        ones = np.ones((1,X_train.shape[1]))\n",
    "        X_train_trf = np.concatenate((ones,X_train),axis  =1)\n",
    "        I = np.identity(X_train.shape[1])\n",
    "        self.weights = np.linalg.inv(np.dot(X_train_trf.T,y_train) + self.alpha*I).dot(X_train_trf.T).dot(y_train)\n",
    "\n",
    "    def predict(self,X_test):\n",
    "        return np.dot(X_test,self.weights) "
   ]
  },
  {
   "cell_type": "code",
   "execution_count": 10,
   "id": "cebcdfee-8e74-402e-a377-990a591aaa7e",
   "metadata": {},
   "outputs": [],
   "source": [
    "X_train,X_test,y_train,y_test = train_test_split(X,y,test_size=0.2,random_state=42)"
   ]
  },
  {
   "cell_type": "code",
   "execution_count": null,
   "id": "624d8577-a1d7-4091-97b5-da1c6584bdeb",
   "metadata": {},
   "outputs": [],
   "source": []
  }
 ],
 "metadata": {
  "kernelspec": {
   "display_name": "Python [conda env:base] *",
   "language": "python",
   "name": "conda-base-py"
  },
  "language_info": {
   "codemirror_mode": {
    "name": "ipython",
    "version": 3
   },
   "file_extension": ".py",
   "mimetype": "text/x-python",
   "name": "python",
   "nbconvert_exporter": "python",
   "pygments_lexer": "ipython3",
   "version": "3.12.7"
  }
 },
 "nbformat": 4,
 "nbformat_minor": 5
}
